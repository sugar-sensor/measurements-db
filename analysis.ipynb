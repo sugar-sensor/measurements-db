{
 "cells": [
  {
   "metadata": {},
   "cell_type": "markdown",
   "source": "# Find sugar measurements correlations",
   "id": "8a77807f92f26ee"
  },
  {
   "metadata": {
    "ExecuteTime": {
     "end_time": "2025-05-15T18:05:05.847724Z",
     "start_time": "2025-05-15T18:05:05.831166Z"
    }
   },
   "cell_type": "code",
   "source": [
    "# Import libraries\n",
    "import pandas as pd\n",
    "import matplotlib.pyplot as plt\n",
    "import sqlite3\n",
    "\n",
    "from select import select"
   ],
   "id": "7df9140457caed5e",
   "outputs": [],
   "execution_count": 6
  },
  {
   "metadata": {},
   "cell_type": "markdown",
   "source": "#### Define local functions to use",
   "id": "2e44cfe2f556cba1"
  },
  {
   "metadata": {
    "collapsed": true,
    "ExecuteTime": {
     "end_time": "2025-05-15T18:05:08.194674Z",
     "start_time": "2025-05-15T18:05:08.186145Z"
    }
   },
   "cell_type": "code",
   "source": "# TODO",
   "id": "initial_id",
   "outputs": [],
   "execution_count": 7
  },
  {
   "metadata": {},
   "cell_type": "markdown",
   "source": "#### Load data from measurements database and prepare it for processing",
   "id": "672a5ec7246f085c"
  },
  {
   "metadata": {
    "ExecuteTime": {
     "end_time": "2025-05-15T18:05:15.927288Z",
     "start_time": "2025-05-15T18:05:15.739392Z"
    }
   },
   "cell_type": "code",
   "source": [
    "conn = sqlite3.connect('measurements.sqlite')\n",
    "tests_bioz = pd.read_sql_query(\"SELECT timestamp, reference FROM tests where tests.mtype=1\", conn)\n",
    "tests_optical = pd.read_sql_query(\"SELECT timestamp, reference FROM tests where tests.mtype=0\", conn)\n",
    "\n",
    "test_data_bioz = pd.read_sql_query(\"SELECT * FROM test_data where test_data.timestamp IN (SELECT timestamp from tests where tests.mtype=1)\", conn)\n",
    "test_data_optical = pd.read_sql_query(\"SELECT * FROM test_data where test_data.timestamp IN (SELECT timestamp from tests where tests.mtype=0)\", conn)\n",
    "test_data_bioz_pivoted = test_data_bioz.pivot(index='timestamp', columns='parameter', values='value').reset_index()\n",
    "test_data_bioz_pivoted = test_data_bioz_pivoted.fillna(0) # fill NaNs with zeros\n",
    "test_data_optical_pivoted = test_data_optical.pivot(index='timestamp', columns='parameter', values='value')\n",
    "test_data_optical_pivoted = test_data_optical_pivoted.drop([0, 3, 4, 5, 6, 9, 10, 11, 12, 15, 16, 17, 18, 21, 22, 23, 24, 27, 28, 29, 30, 31], axis=1).reset_index()\n",
    "test_data_optical_pivoted = test_data_optical_pivoted.fillna(0) # fill NaNs with zeros\n",
    "conn.close()\n",
    "# prepared data to work with:\n",
    "merged_bioz = pd.merge(tests_bioz, test_data_bioz_pivoted, on='timestamp', how='left')\n",
    "merged_optical = pd.merge(tests_optical, test_data_optical_pivoted, on='timestamp', how='left')"
   ],
   "id": "25a8e316f43f358e",
   "outputs": [],
   "execution_count": 8
  },
  {
   "metadata": {},
   "cell_type": "markdown",
   "source": "#### Play with data here:",
   "id": "854ccade631c923c"
  },
  {
   "metadata": {
    "ExecuteTime": {
     "end_time": "2025-05-15T18:05:21.133410Z",
     "start_time": "2025-05-15T18:05:21.115850Z"
    }
   },
   "cell_type": "code",
   "source": [
    "#merged_optical.head(10)\n",
    "# Calculate correlations for merged_bioz (excluding timestamp column)\n",
    "bioz_correlations = merged_bioz.drop('timestamp', axis=1).corr()['reference'].drop('reference')\n",
    "print(\"BioZ Correlations with Reference:\")\n",
    "print(bioz_correlations)\n",
    "print(\"\\nSum of absolute correlations for BioZ:\", abs(bioz_correlations).sum())\n",
    "print(\"\\n\")"
   ],
   "id": "96c75ed17ec867fc",
   "outputs": [
    {
     "name": "stdout",
     "output_type": "stream",
     "text": [
      "BioZ Correlations with Reference:\n",
      "0    -0.064350\n",
      "1    -0.045558\n",
      "2    -0.095118\n",
      "3    -0.128355\n",
      "4    -0.113756\n",
      "5    -0.128013\n",
      "6    -0.066557\n",
      "7    -0.086104\n",
      "8    -0.085602\n",
      "9    -0.085478\n",
      "10   -0.060701\n",
      "Name: reference, dtype: float64\n",
      "\n",
      "Sum of absolute correlations for BioZ: 0.9595927395117537\n",
      "\n",
      "\n"
     ]
    }
   ],
   "execution_count": 9
  },
  {
   "metadata": {
    "ExecuteTime": {
     "end_time": "2025-05-15T18:05:28.330539Z",
     "start_time": "2025-05-15T18:05:28.311471Z"
    }
   },
   "cell_type": "code",
   "source": [
    "optical_correlations = merged_optical.drop('timestamp', axis=1).corr()['reference'].drop('reference')\n",
    "print(\"Optical Correlations with Reference:\")\n",
    "print(optical_correlations)\n",
    "print(\"\\nSum of absolute correlations for Optical:\", abs(optical_correlations).sum())"
   ],
   "id": "d96ee0d95f7713ef",
   "outputs": [
    {
     "name": "stdout",
     "output_type": "stream",
     "text": [
      "Optical Correlations with Reference:\n",
      "1    -0.029620\n",
      "2    -0.051530\n",
      "7    -0.004866\n",
      "8    -0.050211\n",
      "13   -0.041978\n",
      "14   -0.028698\n",
      "19   -0.030229\n",
      "20   -0.020903\n",
      "25   -0.024944\n",
      "26   -0.021393\n",
      "Name: reference, dtype: float64\n",
      "\n",
      "Sum of absolute correlations for Optical: 0.304372749135523\n"
     ]
    }
   ],
   "execution_count": 10
  },
  {
   "metadata": {},
   "cell_type": "markdown",
   "source": "#### Train/test/predict",
   "id": "148a8f06f5e32fc6"
  },
  {
   "metadata": {},
   "cell_type": "code",
   "outputs": [],
   "source": "",
   "id": "de90595662cb7c0e",
   "execution_count": null
  }
 ],
 "metadata": {
  "kernelspec": {
   "display_name": "Python 3",
   "language": "python",
   "name": "python3"
  },
  "language_info": {
   "codemirror_mode": {
    "name": "ipython",
    "version": 2
   },
   "file_extension": ".py",
   "mimetype": "text/x-python",
   "name": "python",
   "nbconvert_exporter": "python",
   "pygments_lexer": "ipython2",
   "version": "2.7.6"
  }
 },
 "nbformat": 4,
 "nbformat_minor": 5
}
